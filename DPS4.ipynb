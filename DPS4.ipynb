{
  "nbformat": 4,
  "nbformat_minor": 0,
  "metadata": {
    "colab": {
      "provenance": [],
      "authorship_tag": "ABX9TyNnxNLsQfSO5gogCDdFfESh",
      "include_colab_link": true
    },
    "kernelspec": {
      "name": "python3",
      "display_name": "Python 3"
    },
    "language_info": {
      "name": "python"
    }
  },
  "cells": [
    {
      "cell_type": "markdown",
      "metadata": {
        "id": "view-in-github",
        "colab_type": "text"
      },
      "source": [
        "<a href=\"https://colab.research.google.com/github/arpitarumma/DataPrivacySecurity/blob/main/DPS4.ipynb\" target=\"_parent\"><img src=\"https://colab.research.google.com/assets/colab-badge.svg\" alt=\"Open In Colab\"/></a>"
      ]
    },
    {
      "cell_type": "code",
      "execution_count": 3,
      "metadata": {
        "colab": {
          "base_uri": "https://localhost:8080/"
        },
        "id": "EchruhlD5jCg",
        "outputId": "541056c4-8d81-4645-fc82-e2cb8ca70c4c"
      },
      "outputs": [
        {
          "output_type": "stream",
          "name": "stdout",
          "text": [
            "Encrypted Message: b\"\\x08\\xc3\\x99\\xd9o\\xb6\\xba\\xd9\\xc8}w\\x8c\\xba\\xb3\\xdc\\rm\\xd9\\x94\\x9f/\\xa9\\xfe\\t+\\xbb\\x00^\\xc6~&\\xea\\xe4\\x03\\x15\\xeeF\\xfeF5\\xb2\\x86\\xf9\\xb9\\xa7\\xb8\\xcd\\x99V_r\\x91c\\xacP\\xcc\\x82\\x98\\x83\\xf8TWb\\xf7\\xb1\\xfe\\x11\\xa1\\x9f\\xb1*Zs\\x18\\x0f\\xdb\\xec&L\\xf0\\x03g)\\x0c\\xc8&\\xf3,as\\x1a\\xcc\\x19\\x8a[\\xa5\\x11\\x864\\xa690\\x82'\\xe8[\\xf6\\xbe\\x9f\\x02\\x86\\x0eo\\xc0\\xbci\\x83\\x071\\xd4\\xeb9\\x93rx\\x0f\\x18\\x15W\\xe0\\xd5\\x17\\xa5\\xd4\\x1e\\xf4b\\x9b\\xf3\\x08\\x05x\\xc9\\x9e\\xd9_\\xfc\\xb83\\x102\\xadyRK+\\x87\\xae\\x10\\xd9b\\x1c\\x8f\\xd1\\\\\\xabY\\x80C\\xaa\\x1b!q\\x85\\x9a\\x9d/\\x03\\xac\\x9f\\xd1\\xa6\\xd7s.\\xde.\\x05\\xf7\\x15(U~\\xc9?\\xe4\\x93F\\r\\x95\\xf6\\xbf\\xfeW1,M\\xccm\\x96\\x97\\x1f4\\xc5\\x90?\\xa8\\xcf\\xcfT\\xdeQ\\x0b?\\xcd\\x85\\\\\\x88\\xd0\\x8b\\x19*\\xe5\\xde\\x03\\xc21P\\xaa$\\x95 ~\\x16\\x12\\xab\\x89(\\xdb\\xb9\\xb5\\xb0\\xd4(\\xe7D\"\n",
            "Decrypted Message: Hello, RSA Encryption with padding!\n"
          ]
        }
      ],
      "source": [
        "from cryptography.hazmat.primitives.asymmetric import rsa\n",
        "from cryptography.hazmat.primitives import hashes\n",
        "from cryptography.hazmat.primitives.asymmetric import padding\n",
        "from cryptography.hazmat.primitives import serialization\n",
        "\n",
        "# Key Generation (RSA)\n",
        "def generate_rsa_keys():\n",
        "    private_key = rsa.generate_private_key(\n",
        "        public_exponent=65537,  # Common value for e\n",
        "        key_size=2048,  # Size in bits, use 2048 or 4096 for better security\n",
        "    )\n",
        "    public_key = private_key.public_key()\n",
        "    return private_key, public_key\n",
        "\n",
        "# Encryption (Public Key)\n",
        "def encrypt_message(public_key, message):\n",
        "    encrypted_message = public_key.encrypt(\n",
        "        message.encode(),  # Convert string to bytes\n",
        "        padding.OAEP(\n",
        "            mgf=padding.MGF1(algorithm=hashes.SHA256()),  # Mask generation function (MGF1) with SHA256\n",
        "            algorithm=hashes.SHA256(),  # Hashing algorithm for OAEP\n",
        "            label=None  # Optional label, usually None\n",
        "        )\n",
        "    )\n",
        "    return encrypted_message\n",
        "\n",
        "# Decryption (Private Key)\n",
        "def decrypt_message(private_key, encrypted_message):\n",
        "    decrypted_message = private_key.decrypt(\n",
        "        encrypted_message,\n",
        "        padding.OAEP(\n",
        "            mgf=padding.MGF1(algorithm=hashes.SHA256()),  # MGF1 with SHA256\n",
        "            algorithm=hashes.SHA256(),  # Hashing algorithm for OAEP\n",
        "            label=None  # Optional label, usually None\n",
        "        )\n",
        "    )\n",
        "    return decrypted_message.decode()  # Convert bytes back to string\n",
        "\n",
        "# Serialization (to save keys to files or transfer them)\n",
        "def serialize_private_key(private_key):\n",
        "    return private_key.private_bytes(\n",
        "        encoding=serialization.Encoding.PEM,\n",
        "        format=serialization.PrivateFormat.TraditionalOpenSSL,\n",
        "        encryption_algorithm=serialization.NoEncryption()\n",
        "    )\n",
        "\n",
        "def serialize_public_key(public_key):\n",
        "    return public_key.public_bytes(\n",
        "        encoding=serialization.Encoding.PEM,\n",
        "        format=serialization.PublicFormat.SubjectPublicKeyInfo\n",
        "    )\n",
        "\n",
        "# Example usage\n",
        "if __name__ == \"__main__\":\n",
        "    # Generate RSA keys\n",
        "    private_key, public_key = generate_rsa_keys()\n",
        "\n",
        "    # Message to be encrypted\n",
        "    original_message = \"Hello, RSA Encryption with padding!\"\n",
        "\n",
        "    # Encrypt the message\n",
        "    encrypted_message = encrypt_message(public_key, original_message)\n",
        "    print(f\"Encrypted Message: {encrypted_message}\")\n",
        "\n",
        "    # Decrypt the message\n",
        "    decrypted_message = decrypt_message(private_key, encrypted_message)\n",
        "    print(f\"Decrypted Message: {decrypted_message}\")\n",
        "\n",
        "\n"
      ]
    }
  ]
}