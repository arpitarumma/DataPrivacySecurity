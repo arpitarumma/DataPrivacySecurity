{
  "nbformat": 4,
  "nbformat_minor": 0,
  "metadata": {
    "colab": {
      "provenance": [],
      "authorship_tag": "ABX9TyOcWalE1ZzLNhGHwneprEQz",
      "include_colab_link": true
    },
    "kernelspec": {
      "name": "python3",
      "display_name": "Python 3"
    },
    "language_info": {
      "name": "python"
    }
  },
  "cells": [
    {
      "cell_type": "markdown",
      "metadata": {
        "id": "view-in-github",
        "colab_type": "text"
      },
      "source": [
        "<a href=\"https://colab.research.google.com/github/arpitarumma/DataPrivacySecurity/blob/main/DPS1.ipynb\" target=\"_parent\"><img src=\"https://colab.research.google.com/assets/colab-badge.svg\" alt=\"Open In Colab\"/></a>"
      ]
    },
    {
      "cell_type": "code",
      "execution_count": null,
      "metadata": {
        "id": "nrCjpuCDNR7F"
      },
      "outputs": [],
      "source": [
        "mapping={\n",
        "    'a':'q','b':'w','c':'e','d':'r','e':'t','f':'y','g':'u','h':'i','i':'o','j':'p','k':'a','l':'s','m':'d','n':'f','o':'g','p':'h','q':'j','r':'k','s':'l','t':'z','u':'x','v':'c','w':'v','x':'b','y':'n','z':'m'}"
      ]
    },
    {
      "cell_type": "code",
      "source": [
        "def encrypt(plain_text):                       #monoalphabetic under substitution\n",
        "  encrypted_text = \"\"\n",
        "  for char in plain_text.lower():\n",
        "    if char in mapping:\n",
        "      encrypted_text+=mapping[char]\n",
        "    else:\n",
        "      encrypted_text+=char\n",
        "  return encrypted_text\n",
        "def decrypt(cipher_text):\n",
        "  inverse_mapping = {v:k for k,v in mapping.items()}\n",
        "  decrypted_text = \"\"\n",
        "  for char in cipher_text.lower():\n",
        "    if char in inverse_mapping:\n",
        "      decrypted_text+=inverse_mapping[char]\n",
        "    else:\n",
        "      decrypted_text+=char\n",
        "  return decrypted_text"
      ],
      "metadata": {
        "id": "WimJO-hYQcz9"
      },
      "execution_count": null,
      "outputs": []
    },
    {
      "cell_type": "code",
      "source": [
        "if __name__==\"__main__\":\n",
        "  plain_text=\" i am arpita \"\n",
        "  print(\"Plain Text: \",plain_text)\n",
        "  encrypted=encrypt(plain_text)\n",
        "  print(\"encrypted text:\",encrypted)\n",
        "  decrypted=decrypt(encrypted)\n",
        "  print(\"decrypted text:\",decrypted)"
      ],
      "metadata": {
        "colab": {
          "base_uri": "https://localhost:8080/"
        },
        "id": "CuMBm0yXQc5a",
        "outputId": "bba408f1-9745-49a1-c5d5-180dceb1fb21"
      },
      "execution_count": null,
      "outputs": [
        {
          "output_type": "stream",
          "name": "stdout",
          "text": [
            "Plain Text:   i am arpita \n",
            "encrypted text:  o qd qkhozq \n",
            "decrypted text:  i am arpita \n"
          ]
        }
      ]
    },
    {
      "cell_type": "code",
      "source": [],
      "metadata": {
        "id": "reWucZckQc99"
      },
      "execution_count": null,
      "outputs": []
    },
    {
      "cell_type": "code",
      "source": [],
      "metadata": {
        "id": "c0EyVb1aQdCg"
      },
      "execution_count": null,
      "outputs": []
    },
    {
      "cell_type": "code",
      "source": [],
      "metadata": {
        "id": "wQ9hEUoYQdIn"
      },
      "execution_count": null,
      "outputs": []
    }
  ]
}