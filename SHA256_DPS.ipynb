{
  "nbformat": 4,
  "nbformat_minor": 0,
  "metadata": {
    "colab": {
      "provenance": [],
      "authorship_tag": "ABX9TyNI6gisA2Xd1/gIU54r+Dzy",
      "include_colab_link": true
    },
    "kernelspec": {
      "name": "python3",
      "display_name": "Python 3"
    },
    "language_info": {
      "name": "python"
    }
  },
  "cells": [
    {
      "cell_type": "markdown",
      "metadata": {
        "id": "view-in-github",
        "colab_type": "text"
      },
      "source": [
        "<a href=\"https://colab.research.google.com/github/arpitarumma/DataPrivacySecurity/blob/main/SHA256_DPS.ipynb\" target=\"_parent\"><img src=\"https://colab.research.google.com/assets/colab-badge.svg\" alt=\"Open In Colab\"/></a>"
      ]
    },
    {
      "cell_type": "code",
      "execution_count": 1,
      "metadata": {
        "colab": {
          "base_uri": "https://localhost:8080/"
        },
        "id": "iW73dXW1C4nL",
        "outputId": "2e039948-39ff-4b72-bbc4-6ac102cd0f86"
      },
      "outputs": [
        {
          "output_type": "stream",
          "name": "stdout",
          "text": [
            "Original Data: This is a test message.\n",
            "Generated Hash: 0668b515bfc41b90b6a90a6ae8600256e1c76a67d17c78a26127ddeb9b324435\n",
            "Verifying original data: Data matches hash: True\n",
            "Verifying tampered data: Data matches hash: False\n"
          ]
        }
      ],
      "source": [
        "import hashlib\n",
        "\n",
        "# Step 2: Define the generate_hash function\n",
        "def generate_hash(data):\n",
        "    # Create a SHA-256 hash object\n",
        "    sha256_hash = hashlib.sha256()\n",
        "    # Convert the string data to bytes and update the hash object\n",
        "    sha256_hash.update(data.encode('utf-8'))\n",
        "    # Return the hexadecimal representation of the hash\n",
        "    return sha256_hash.hexdigest()\n",
        "\n",
        "# Step 3: Define the verify_hash function\n",
        "def verify_hash(original_data, provided_hash):\n",
        "    # Generate the hash of the original data\n",
        "    generated_hash = generate_hash(original_data)\n",
        "    # Compare the generated hash with the provided hash\n",
        "    return generated_hash == provided_hash\n",
        "\n",
        "# Step 4: Input Data\n",
        "original_data = \"This is a test message.\"\n",
        "\n",
        "# Step 5: Generate Hash\n",
        "generated_hash = generate_hash(original_data)\n",
        "\n",
        "# Print the original data and the generated hash\n",
        "print(f\"Original Data: {original_data}\")\n",
        "print(f\"Generated Hash: {generated_hash}\")\n",
        "\n",
        "# Step 6: Verify Data Integrity\n",
        "# Verifying the hash for original data\n",
        "is_original_valid = verify_hash(original_data, generated_hash)\n",
        "print(f\"Verifying original data: Data matches hash: {is_original_valid}\")\n",
        "\n",
        "# Alter the data (tampered data)\n",
        "tampered_data = \"This is a tampered message.\"\n",
        "\n",
        "# Verifying the hash for tampered data\n",
        "is_tampered_valid = verify_hash(tampered_data, generated_hash)\n",
        "print(f\"Verifying tampered data: Data matches hash: {is_tampered_valid}\")\n"
      ]
    }
  ]
}