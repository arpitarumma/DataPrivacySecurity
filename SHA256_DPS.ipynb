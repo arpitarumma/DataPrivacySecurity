{
  "nbformat": 4,
  "nbformat_minor": 0,
  "metadata": {
    "colab": {
      "provenance": [],
      "authorship_tag": "ABX9TyP8KvziWSQBepX81pxCz4G+",
      "include_colab_link": true
    },
    "kernelspec": {
      "name": "python3",
      "display_name": "Python 3"
    },
    "language_info": {
      "name": "python"
    }
  },
  "cells": [
    {
      "cell_type": "markdown",
      "metadata": {
        "id": "view-in-github",
        "colab_type": "text"
      },
      "source": [
        "<a href=\"https://colab.research.google.com/github/arpitarumma/DataPrivacySecurity/blob/main/SHA256_DPS.ipynb\" target=\"_parent\"><img src=\"https://colab.research.google.com/assets/colab-badge.svg\" alt=\"Open In Colab\"/></a>"
      ]
    },
    {
      "cell_type": "code",
      "execution_count": 1,
      "metadata": {
        "colab": {
          "base_uri": "https://localhost:8080/"
        },
        "id": "iW73dXW1C4nL",
        "outputId": "2e039948-39ff-4b72-bbc4-6ac102cd0f86"
      },
      "outputs": [
        {
          "output_type": "stream",
          "name": "stdout",
          "text": [
            "Original Data: This is a test message.\n",
            "Generated Hash: 0668b515bfc41b90b6a90a6ae8600256e1c76a67d17c78a26127ddeb9b324435\n",
            "Verifying original data: Data matches hash: True\n",
            "Verifying tampered data: Data matches hash: False\n"
          ]
        }
      ],
      "source": [
        "import hashlib\n",
        "\n",
        "# Step 2: Define the generate_hash function\n",
        "def generate_hash(data):\n",
        "    # Create a SHA-256 hash object\n",
        "    sha256_hash = hashlib.sha256()\n",
        "    # Convert the string data to bytes and update the hash object\n",
        "    sha256_hash.update(data.encode('utf-8'))\n",
        "    # Return the hexadecimal representation of the hash\n",
        "    return sha256_hash.hexdigest()\n",
        "\n",
        "# Step 3: Define the verify_hash function\n",
        "def verify_hash(original_data, provided_hash):\n",
        "    # Generate the hash of the original data\n",
        "    generated_hash = generate_hash(original_data)\n",
        "    # Compare the generated hash with the provided hash\n",
        "    return generated_hash == provided_hash\n",
        "\n",
        "# Step 4: Input Data\n",
        "original_data = \"This is a test message.\"\n",
        "\n",
        "# Step 5: Generate Hash\n",
        "generated_hash = generate_hash(original_data)\n",
        "\n",
        "# Print the original data and the generated hash\n",
        "print(f\"Original Data: {original_data}\")\n",
        "print(f\"Generated Hash: {generated_hash}\")\n",
        "\n",
        "# Step 6: Verify Data Integrity\n",
        "# Verifying the hash for original data\n",
        "is_original_valid = verify_hash(original_data, generated_hash)\n",
        "print(f\"Verifying original data: Data matches hash: {is_original_valid}\")\n",
        "\n",
        "# Alter the data (tampered data)\n",
        "tampered_data = \"This is a tampered message.\"\n",
        "\n",
        "# Verifying the hash for tampered data\n",
        "is_tampered_valid = verify_hash(tampered_data, generated_hash)\n",
        "print(f\"Verifying tampered data: Data matches hash: {is_tampered_valid}\")\n"
      ]
    },
    {
      "cell_type": "code",
      "source": [],
      "metadata": {
        "id": "Mm0rwktdH0y6"
      },
      "execution_count": null,
      "outputs": []
    },
    {
      "cell_type": "code",
      "source": [
        "import hashlib\n",
        "# Function to generate SHA-256 hash\n",
        "def generate_sha256_hash(data):\n",
        "   return hashlib.sha256(data.encode()).hexdigest()\n",
        "# Function to verify data integrity\n",
        "def verify_data_integrity(original_data, received_data):\n",
        "   original_hash = generate_sha256_hash(original_data)\n",
        "   received_hash = generate_sha256_hash(received_data)\n",
        "   if original_hash == received_hash:\n",
        "       print(\"Data integrity verified (No tampering).\")\n",
        "   else:\n",
        "       print(\"Data has been tampered with!\")\n",
        "# Example usage\n",
        "original_data = \"Secure Hash algorithm ensures data integrity\"\n",
        "tampered_data = \"Secure hash algorithm ensures data security.\"\n",
        "# Hashing original data\n",
        "original_hash = generate_sha256_hash(original_data)\n",
        "print(\"Original data hash:\", original_hash)\n",
        "# Verifying data integrity\n",
        "verify_data_integrity(original_data, tampered_data)\n",
        "verify_data_integrity(original_data, original_data)"
      ],
      "metadata": {
        "colab": {
          "base_uri": "https://localhost:8080/"
        },
        "id": "2avTv8jnH1UG",
        "outputId": "05ee7568-a252-4515-daa8-10a04e7662f2"
      },
      "execution_count": 4,
      "outputs": [
        {
          "output_type": "stream",
          "name": "stdout",
          "text": [
            "Original data hash: 99102614ede56e42be37a0c123031168ddb41207b4fe1f5258dd9872cc815a18\n",
            "Data has been tampered with!\n",
            "Data integrity verified (No tampering).\n"
          ]
        }
      ]
    },
    {
      "cell_type": "code",
      "source": [],
      "metadata": {
        "id": "HkMIgtYGH1We"
      },
      "execution_count": null,
      "outputs": []
    },
    {
      "cell_type": "code",
      "source": [],
      "metadata": {
        "id": "ALVoeZUoH1zW"
      },
      "execution_count": null,
      "outputs": []
    },
    {
      "cell_type": "code",
      "source": [],
      "metadata": {
        "id": "uTl0zcoVH11v"
      },
      "execution_count": null,
      "outputs": []
    },
    {
      "cell_type": "code",
      "source": [],
      "metadata": {
        "id": "lMEaKRS8H2Re"
      },
      "execution_count": null,
      "outputs": []
    },
    {
      "cell_type": "code",
      "source": [],
      "metadata": {
        "id": "Q9f0h_0pH2T2"
      },
      "execution_count": null,
      "outputs": []
    },
    {
      "cell_type": "code",
      "source": [],
      "metadata": {
        "id": "PVjwAxHZH2WH"
      },
      "execution_count": null,
      "outputs": []
    }
  ]
}