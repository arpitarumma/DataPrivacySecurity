{
  "nbformat": 4,
  "nbformat_minor": 0,
  "metadata": {
    "colab": {
      "provenance": [],
      "authorship_tag": "ABX9TyMLNkXqCxMbebrrXtw3cFnb",
      "include_colab_link": true
    },
    "kernelspec": {
      "name": "python3",
      "display_name": "Python 3"
    },
    "language_info": {
      "name": "python"
    }
  },
  "cells": [
    {
      "cell_type": "markdown",
      "metadata": {
        "id": "view-in-github",
        "colab_type": "text"
      },
      "source": [
        "<a href=\"https://colab.research.google.com/github/arpitarumma/DataPrivacySecurity/blob/main/DPSplayfaircipher.ipynb\" target=\"_parent\"><img src=\"https://colab.research.google.com/assets/colab-badge.svg\" alt=\"Open In Colab\"/></a>"
      ]
    },
    {
      "cell_type": "code",
      "execution_count": 2,
      "metadata": {
        "colab": {
          "base_uri": "https://localhost:8080/"
        },
        "id": "hWtxFiKsDAfG",
        "outputId": "e6f21f04-a392-4962-857f-2f4501428124"
      },
      "outputs": [
        {
          "output_type": "stream",
          "name": "stdout",
          "text": [
            "Encrypted: GYIZSCOKCFBU\n",
            "Decrypted: HELLOWORLD\n"
          ]
        }
      ],
      "source": [
        "# Function to create the Playfair cipher matrix\n",
        "def create_matrix(key):\n",
        "    matrix = []\n",
        "    alphabet = \"ABCDEFGHIKLMNOPQRSTUVWXYZ\"  # 'J' is omitted, combined with 'I'\n",
        "    key = ''.join(sorted(set(key), key=lambda x: key.index(x)))  # Remove duplicate letters\n",
        "    key = key.replace(\"J\", \"I\")  # Replace J with I\n",
        "    matrix_string = key + alphabet  # Combine the key with the alphabet\n",
        "\n",
        "    # Remove duplicates from the combined string\n",
        "    for char in matrix_string:\n",
        "        if char not in matrix:\n",
        "            matrix.append(char)\n",
        "    return matrix\n",
        "\n",
        "# Function to prepare the text: splitting into pairs and handling odd-length text\n",
        "def prepare_text(text):\n",
        "    text = text.replace(\"J\", \"I\").upper()  # Convert to uppercase and replace J with I\n",
        "    text = ''.join([c for c in text if c.isalpha()])  # Remove non-alphabetic characters\n",
        "    prepared_text = []\n",
        "    i = 0\n",
        "\n",
        "    while i < len(text):\n",
        "        if i + 1 < len(text) and text[i] != text[i + 1]:\n",
        "            prepared_text.append(text[i] + text[i + 1])\n",
        "            i += 2\n",
        "        else:\n",
        "            prepared_text.append(text[i] + 'X')  # Add 'X' if pair is same or odd\n",
        "            i += 1\n",
        "    return prepared_text\n",
        "\n",
        "# Function to encrypt a pair of characters\n",
        "def encrypt_pair(pair, matrix):\n",
        "    # Find the positions of the pair in the matrix\n",
        "    pos1 = matrix.index(pair[0])\n",
        "    pos2 = matrix.index(pair[1])\n",
        "\n",
        "    row1, col1 = divmod(pos1, 5)\n",
        "    row2, col2 = divmod(pos2, 5)\n",
        "\n",
        "    if row1 == row2:\n",
        "        # Same row: shift right\n",
        "        return matrix[row1 * 5 + (col1 + 1) % 5] + matrix[row2 * 5 + (col2 + 1) % 5]\n",
        "    elif col1 == col2:\n",
        "        # Same column: shift down\n",
        "        return matrix[((row1 + 1) % 5) * 5 + col1] + matrix[((row2 + 1) % 5) * 5 + col2]\n",
        "    else:\n",
        "        # Rectangle: swap columns\n",
        "        return matrix[row1 * 5 + col2] + matrix[row2 * 5 + col1]\n",
        "\n",
        "# Function to decrypt a pair of characters\n",
        "def decrypt_pair(pair, matrix):\n",
        "    # Find the positions of the pair in the matrix\n",
        "    pos1 = matrix.index(pair[0])\n",
        "    pos2 = matrix.index(pair[1])\n",
        "\n",
        "    row1, col1 = divmod(pos1, 5)\n",
        "    row2, col2 = divmod(pos2, 5)\n",
        "\n",
        "    if row1 == row2:\n",
        "        # Same row: shift left\n",
        "        return matrix[row1 * 5 + (col1 - 1) % 5] + matrix[row2 * 5 + (col2 - 1) % 5]\n",
        "    elif col1 == col2:\n",
        "        # Same column: shift up\n",
        "        return matrix[((row1 - 1) % 5) * 5 + col1] + matrix[((row2 - 1) % 5) * 5 + col2]\n",
        "    else:\n",
        "        # Rectangle: swap columns\n",
        "        return matrix[row1 * 5 + col2] + matrix[row2 * 5 + col1]\n",
        "\n",
        "# Main function for encryption\n",
        "def playfair_encrypt(text, key):\n",
        "    matrix = create_matrix(key)\n",
        "    prepared_text = prepare_text(text)\n",
        "    encrypted_text = []\n",
        "\n",
        "    for pair in prepared_text:\n",
        "        encrypted_text.append(encrypt_pair(pair, matrix))\n",
        "\n",
        "    return ''.join(encrypted_text)\n",
        "\n",
        "# Main function for decryption\n",
        "def playfair_decrypt(text, key):\n",
        "    matrix = create_matrix(key)\n",
        "    prepared_text = [text[i:i+2] for i in range(0, len(text), 2)]\n",
        "    decrypted_text = []\n",
        "\n",
        "    for pair in prepared_text:\n",
        "        decrypted_text.append(decrypt_pair(pair, matrix))\n",
        "\n",
        "    # Remove 'X' added during preparation\n",
        "    return ''.join(decrypted_text).replace('X', '')\n",
        "\n",
        "# Example Usage\n",
        "if __name__ == \"__main__\":\n",
        "    key = \"KEYWORD\"\n",
        "    plaintext = \"HELLO WORLD\"\n",
        "\n",
        "    encrypted = playfair_encrypt(plaintext, key)\n",
        "    print(f\"Encrypted: {encrypted}\")\n",
        "\n",
        "    decrypted = playfair_decrypt(encrypted, key)\n",
        "    print(f\"Decrypted: {decrypted}\")\n"
      ]
    }
  ]
}