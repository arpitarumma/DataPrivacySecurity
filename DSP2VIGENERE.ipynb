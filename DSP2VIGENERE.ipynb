{
  "nbformat": 4,
  "nbformat_minor": 0,
  "metadata": {
    "colab": {
      "provenance": [],
      "authorship_tag": "ABX9TyPi8MAOSyMoQcNfgKg7PqFE",
      "include_colab_link": true
    },
    "kernelspec": {
      "name": "python3",
      "display_name": "Python 3"
    },
    "language_info": {
      "name": "python"
    }
  },
  "cells": [
    {
      "cell_type": "markdown",
      "metadata": {
        "id": "view-in-github",
        "colab_type": "text"
      },
      "source": [
        "<a href=\"https://colab.research.google.com/github/arpitarumma/DataPrivacySecurity/blob/main/DSP2VIGENERE.ipynb\" target=\"_parent\"><img src=\"https://colab.research.google.com/assets/colab-badge.svg\" alt=\"Open In Colab\"/></a>"
      ]
    },
    {
      "cell_type": "code",
      "execution_count": null,
      "metadata": {
        "colab": {
          "base_uri": "https://localhost:8080/"
        },
        "id": "7mdwHXZea3lB",
        "outputId": "a1354fe4-fa28-4084-c41d-6945f6ef772a"
      },
      "outputs": [
        {
          "output_type": "stream",
          "name": "stdout",
          "text": [
            "Encrypted: TYIXUM\n",
            "Decrypted: SRIRAM\n"
          ]
        }
      ],
      "source": [
        "def vigenere_cipher(text, key):\n",
        "    key_len = len(key)\n",
        "    result = ''\n",
        "    for i, char in enumerate(text):\n",
        "        if char.isalpha():\n",
        "            start = ord('a') if char.islower() else ord('A')\n",
        "            key_char = key[i % key_len].lower()\n",
        "            key_shift = ord(key_char) - ord('a')\n",
        "            shifted_char = chr((ord(char) - start + key_shift) % 26 + start)\n",
        "        elif char.isdigit():\n",
        "            key_char = key[i % key_len]\n",
        "            key_shift = int(key_char) if key_char.isdigit() else ord(key_char.lower()) - ord('a')\n",
        "            shifted_char = str((int(char) + key_shift) % 10)\n",
        "        else:\n",
        "            shifted_char = char\n",
        "        result += shifted_char\n",
        "    return result\n",
        "# Example usage:\n",
        "text = \"SRIRAM\"\n",
        "key = \"BHAGUA\"\n",
        "encrypted_text = vigenere_cipher(text, key)\n",
        "print(\"Encrypted:\", encrypted_text)\n",
        "# Decryption\n",
        "decrypted_text = \"\"\n",
        "for i, char in enumerate(encrypted_text):\n",
        "    if char.isalpha():\n",
        "      start = ord('a') if char.islower() else ord('A')\n",
        "      key_char = key[i % len(key)].lower()\n",
        "      key_shift = ord(key_char) - ord('a')\n",
        "      decrypted_char = chr((ord(char) - start - key_shift) % 26 + start)\n",
        "    elif char.isdigit():\n",
        "      key_char = key[i % len(key)]\n",
        "      key_shift = int(key_char) if key_char.isdigit() else ord(key_char.lower()) - ord('a')\n",
        "      decrypted_char = str((int(char) - key_shift) % 10)\n",
        "    else:\n",
        "      decrypted_char = char\n",
        "    decrypted_text += decrypted_char\n",
        "print(\"Decrypted:\", decrypted_text)"
      ]
    },
    {
      "cell_type": "code",
      "source": [],
      "metadata": {
        "id": "kE6TygFDbCcs"
      },
      "execution_count": null,
      "outputs": []
    },
    {
      "cell_type": "code",
      "source": [],
      "metadata": {
        "id": "HlABp2BHbCmo"
      },
      "execution_count": null,
      "outputs": []
    },
    {
      "cell_type": "code",
      "source": [],
      "metadata": {
        "id": "nIsBR4DEbCrZ"
      },
      "execution_count": null,
      "outputs": []
    },
    {
      "cell_type": "code",
      "source": [],
      "metadata": {
        "id": "TrVHXc7xbCwR"
      },
      "execution_count": null,
      "outputs": []
    }
  ]
}